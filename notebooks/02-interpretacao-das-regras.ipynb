{
 "cells": [
  {
   "cell_type": "code",
   "execution_count": 1,
   "id": "7af43b8f-6783-4f1f-a98b-e7a0a4fadfab",
   "metadata": {},
   "outputs": [
    {
     "name": "stdout",
     "output_type": "stream",
     "text": [
      "Requirement already satisfied: pandas in c:\\users\\miche\\appdata\\local\\programs\\python\\python313\\lib\\site-packages (2.3.2)\n",
      "Requirement already satisfied: numpy>=1.26.0 in c:\\users\\miche\\appdata\\local\\programs\\python\\python313\\lib\\site-packages (from pandas) (2.3.3)\n",
      "Requirement already satisfied: python-dateutil>=2.8.2 in c:\\users\\miche\\appdata\\local\\programs\\python\\python313\\lib\\site-packages (from pandas) (2.9.0.post0)\n",
      "Requirement already satisfied: pytz>=2020.1 in c:\\users\\miche\\appdata\\local\\programs\\python\\python313\\lib\\site-packages (from pandas) (2025.2)\n",
      "Requirement already satisfied: tzdata>=2022.7 in c:\\users\\miche\\appdata\\local\\programs\\python\\python313\\lib\\site-packages (from pandas) (2025.2)\n",
      "Requirement already satisfied: six>=1.5 in c:\\users\\miche\\appdata\\local\\programs\\python\\python313\\lib\\site-packages (from python-dateutil>=2.8.2->pandas) (1.17.0)\n",
      "Note: you may need to restart the kernel to use updated packages.\n"
     ]
    }
   ],
   "source": [
    "pip install pandas"
   ]
  },
  {
   "cell_type": "code",
   "execution_count": 2,
   "id": "d81a4826-7340-4d24-9ffb-98ecd8ce6551",
   "metadata": {},
   "outputs": [],
   "source": [
    "import pandas as pd"
   ]
  },
  {
   "cell_type": "code",
   "execution_count": 3,
   "id": "2b85de82-10c0-44d1-8d95-7d974c1518f7",
   "metadata": {},
   "outputs": [],
   "source": [
    "# Carregar o relatório de regras que nosso script gerou\n",
    "df_rules = pd.read_csv('../data/regras_de_associacao.csv')"
   ]
  },
  {
   "cell_type": "code",
   "execution_count": 5,
   "id": "d5b654fe-861f-48a9-ab77-f5fa90beb97c",
   "metadata": {},
   "outputs": [
    {
     "name": "stdout",
     "output_type": "stream",
     "text": [
      "--- Relatório Final de Regras de Associação para o Negócio ---\n"
     ]
    },
    {
     "data": {
      "text/html": [
       "<div>\n",
       "<style scoped>\n",
       "    .dataframe tbody tr th:only-of-type {\n",
       "        vertical-align: middle;\n",
       "    }\n",
       "\n",
       "    .dataframe tbody tr th {\n",
       "        vertical-align: top;\n",
       "    }\n",
       "\n",
       "    .dataframe thead th {\n",
       "        text-align: right;\n",
       "    }\n",
       "</style>\n",
       "<table border=\"1\" class=\"dataframe\">\n",
       "  <thead>\n",
       "    <tr style=\"text-align: right;\">\n",
       "      <th></th>\n",
       "      <th>rule</th>\n",
       "      <th>support</th>\n",
       "      <th>confidence</th>\n",
       "      <th>lift</th>\n",
       "    </tr>\n",
       "  </thead>\n",
       "  <tbody>\n",
       "    <tr>\n",
       "      <th>0</th>\n",
       "      <td>cerveja -&gt; fraldas</td>\n",
       "      <td>0.375</td>\n",
       "      <td>0.750000</td>\n",
       "      <td>2.000000</td>\n",
       "    </tr>\n",
       "    <tr>\n",
       "      <th>1</th>\n",
       "      <td>fraldas -&gt; cerveja</td>\n",
       "      <td>0.375</td>\n",
       "      <td>1.000000</td>\n",
       "      <td>2.000000</td>\n",
       "    </tr>\n",
       "    <tr>\n",
       "      <th>2</th>\n",
       "      <td>leite -&gt; pao, cerveja</td>\n",
       "      <td>0.250</td>\n",
       "      <td>0.500000</td>\n",
       "      <td>2.000000</td>\n",
       "    </tr>\n",
       "    <tr>\n",
       "      <th>3</th>\n",
       "      <td>pao, cerveja -&gt; leite</td>\n",
       "      <td>0.250</td>\n",
       "      <td>1.000000</td>\n",
       "      <td>2.000000</td>\n",
       "    </tr>\n",
       "    <tr>\n",
       "      <th>4</th>\n",
       "      <td>pao -&gt; cafe</td>\n",
       "      <td>0.250</td>\n",
       "      <td>0.333333</td>\n",
       "      <td>1.333333</td>\n",
       "    </tr>\n",
       "    <tr>\n",
       "      <th>5</th>\n",
       "      <td>cafe -&gt; pao</td>\n",
       "      <td>0.250</td>\n",
       "      <td>1.000000</td>\n",
       "      <td>1.333333</td>\n",
       "    </tr>\n",
       "    <tr>\n",
       "      <th>6</th>\n",
       "      <td>leite -&gt; pao</td>\n",
       "      <td>0.500</td>\n",
       "      <td>1.000000</td>\n",
       "      <td>1.333333</td>\n",
       "    </tr>\n",
       "    <tr>\n",
       "      <th>7</th>\n",
       "      <td>leite -&gt; manteiga</td>\n",
       "      <td>0.250</td>\n",
       "      <td>0.500000</td>\n",
       "      <td>1.333333</td>\n",
       "    </tr>\n",
       "    <tr>\n",
       "      <th>8</th>\n",
       "      <td>pao -&gt; leite</td>\n",
       "      <td>0.500</td>\n",
       "      <td>0.666667</td>\n",
       "      <td>1.333333</td>\n",
       "    </tr>\n",
       "    <tr>\n",
       "      <th>9</th>\n",
       "      <td>pao -&gt; manteiga</td>\n",
       "      <td>0.375</td>\n",
       "      <td>0.500000</td>\n",
       "      <td>1.333333</td>\n",
       "    </tr>\n",
       "    <tr>\n",
       "      <th>10</th>\n",
       "      <td>manteiga -&gt; pao</td>\n",
       "      <td>0.375</td>\n",
       "      <td>1.000000</td>\n",
       "      <td>1.333333</td>\n",
       "    </tr>\n",
       "    <tr>\n",
       "      <th>11</th>\n",
       "      <td>manteiga -&gt; leite</td>\n",
       "      <td>0.250</td>\n",
       "      <td>0.666667</td>\n",
       "      <td>1.333333</td>\n",
       "    </tr>\n",
       "    <tr>\n",
       "      <th>12</th>\n",
       "      <td>leite, cerveja -&gt; pao</td>\n",
       "      <td>0.250</td>\n",
       "      <td>1.000000</td>\n",
       "      <td>1.333333</td>\n",
       "    </tr>\n",
       "    <tr>\n",
       "      <th>13</th>\n",
       "      <td>pao -&gt; leite, cerveja</td>\n",
       "      <td>0.250</td>\n",
       "      <td>0.333333</td>\n",
       "      <td>1.333333</td>\n",
       "    </tr>\n",
       "    <tr>\n",
       "      <th>14</th>\n",
       "      <td>leite, pao -&gt; manteiga</td>\n",
       "      <td>0.250</td>\n",
       "      <td>0.500000</td>\n",
       "      <td>1.333333</td>\n",
       "    </tr>\n",
       "    <tr>\n",
       "      <th>15</th>\n",
       "      <td>leite, manteiga -&gt; pao</td>\n",
       "      <td>0.250</td>\n",
       "      <td>1.000000</td>\n",
       "      <td>1.333333</td>\n",
       "    </tr>\n",
       "    <tr>\n",
       "      <th>16</th>\n",
       "      <td>pao, manteiga -&gt; leite</td>\n",
       "      <td>0.250</td>\n",
       "      <td>0.666667</td>\n",
       "      <td>1.333333</td>\n",
       "    </tr>\n",
       "    <tr>\n",
       "      <th>17</th>\n",
       "      <td>leite -&gt; pao, manteiga</td>\n",
       "      <td>0.250</td>\n",
       "      <td>0.500000</td>\n",
       "      <td>1.333333</td>\n",
       "    </tr>\n",
       "    <tr>\n",
       "      <th>18</th>\n",
       "      <td>pao -&gt; leite, manteiga</td>\n",
       "      <td>0.250</td>\n",
       "      <td>0.333333</td>\n",
       "      <td>1.333333</td>\n",
       "    </tr>\n",
       "    <tr>\n",
       "      <th>19</th>\n",
       "      <td>manteiga -&gt; leite, pao</td>\n",
       "      <td>0.250</td>\n",
       "      <td>0.666667</td>\n",
       "      <td>1.333333</td>\n",
       "    </tr>\n",
       "  </tbody>\n",
       "</table>\n",
       "</div>"
      ],
      "text/plain": [
       "                      rule  support  confidence      lift\n",
       "0       cerveja -> fraldas    0.375    0.750000  2.000000\n",
       "1       fraldas -> cerveja    0.375    1.000000  2.000000\n",
       "2    leite -> pao, cerveja    0.250    0.500000  2.000000\n",
       "3    pao, cerveja -> leite    0.250    1.000000  2.000000\n",
       "4              pao -> cafe    0.250    0.333333  1.333333\n",
       "5              cafe -> pao    0.250    1.000000  1.333333\n",
       "6             leite -> pao    0.500    1.000000  1.333333\n",
       "7        leite -> manteiga    0.250    0.500000  1.333333\n",
       "8             pao -> leite    0.500    0.666667  1.333333\n",
       "9          pao -> manteiga    0.375    0.500000  1.333333\n",
       "10         manteiga -> pao    0.375    1.000000  1.333333\n",
       "11       manteiga -> leite    0.250    0.666667  1.333333\n",
       "12   leite, cerveja -> pao    0.250    1.000000  1.333333\n",
       "13   pao -> leite, cerveja    0.250    0.333333  1.333333\n",
       "14  leite, pao -> manteiga    0.250    0.500000  1.333333\n",
       "15  leite, manteiga -> pao    0.250    1.000000  1.333333\n",
       "16  pao, manteiga -> leite    0.250    0.666667  1.333333\n",
       "17  leite -> pao, manteiga    0.250    0.500000  1.333333\n",
       "18  pao -> leite, manteiga    0.250    0.333333  1.333333\n",
       "19  manteiga -> leite, pao    0.250    0.666667  1.333333"
      ]
     },
     "metadata": {},
     "output_type": "display_data"
    }
   ],
   "source": [
    "print(\"--- Relatório Final de Regras de Associação para o Negócio ---\")\n",
    "display(df_rules)"
   ]
  },
  {
   "cell_type": "code",
   "execution_count": 6,
   "id": "0d9c1274-f693-4996-86fa-064d1fd4c5f5",
   "metadata": {},
   "outputs": [
    {
     "name": "stdout",
     "output_type": "stream",
     "text": [
      "\n",
      "--- ✅ Desfecho da Prática: Insights e Recomendações Acionáveis ---\n"
     ]
    }
   ],
   "source": [
    "print(\"\\n--- ✅ Desfecho da Prática: Insights e Recomendações Acionáveis ---\")"
   ]
  },
  {
   "cell_type": "code",
   "execution_count": 9,
   "id": "4c1c5dd2-c589-46aa-be26-93a88552462a",
   "metadata": {},
   "outputs": [],
   "source": [
    "# Exemplo de como extrair insights\n",
    "top_rule = df_rules.iloc[0] # Pega a regra com o maior lift"
   ]
  },
  {
   "cell_type": "code",
   "execution_count": 11,
   "id": "f6807c3a-36d7-43f2-ab8a-c13b0f636470",
   "metadata": {},
   "outputs": [
    {
     "name": "stdout",
     "output_type": "stream",
     "text": [
      "\n",
      "Insight Principal:\n",
      "A regra mais forte encontrada foi: 'cerveja -> fraldas' com um Lift de 2.00.\n",
      "Isso significa que clientes que compram cerveja são 2.00 vezes mais propensos a comprar também fraldas do que a média dos clientes.\n"
     ]
    }
   ],
   "source": [
    "print(\"\\nInsight Principal:\")\n",
    "print(f\"A regra mais forte encontrada foi: '{top_rule['rule']}' com um Lift de {top_rule['lift']:.2f}.\")\n",
    "print(f\"Isso significa que clientes que compram {top_rule['rule'].split(' -> ')[0]} são {top_rule['lift']:.2f} vezes mais propensos a comprar também {top_rule['rule'].split('-> ')[1]} do que a média dos clientes.\")\n"
   ]
  },
  {
   "cell_type": "code",
   "execution_count": 13,
   "id": "df9ef03c-df03-4693-9833-4aea1d1bf92b",
   "metadata": {},
   "outputs": [
    {
     "name": "stdout",
     "output_type": "stream",
     "text": [
      "\n",
      "Recomendações para a equipe de Marketing e Operações:\n",
      "1. **Promoção 'Compre Junto':** Criar um combo promocional com 'manteiga' e 'leite'. A regra '{manteiga} -> {leite}' tem alta confiança (100%).\n",
      "2. **Layout da Loja:** Posicionar 'fraldas' e 'cerveja' em corredores diferentes, mas no caminho um do outro. A regra '{fraldas} -> {cerveja}' mostra uma forte associação, e fazer o cliente andar mais pela loja pode incentivar compras por impulso.\n",
      "3. **Cross-Selling Online:** Na página de checkout do ecommerce, se o cliente tiver 'café' no carrinho, sugerir ativamente a compra de 'pão'.\n"
     ]
    }
   ],
   "source": [
    "print(\"\\nRecomendações para a equipe de Marketing e Operações:\")\n",
    "print(\"1. **Promoção 'Compre Junto':** Criar um combo promocional com 'manteiga' e 'leite'. A regra '{manteiga} -> {leite}' tem alta confiança (100%).\")\n",
    "print(\"2. **Layout da Loja:** Posicionar 'fraldas' e 'cerveja' em corredores diferentes, mas no caminho um do outro. A regra '{fraldas} -> {cerveja}' mostra uma forte associação, e fazer o cliente andar mais pela loja pode incentivar compras por impulso.\")\n",
    "print(\"3. **Cross-Selling Online:** Na página de checkout do ecommerce, se o cliente tiver 'café' no carrinho, sugerir ativamente a compra de 'pão'.\")"
   ]
  },
  {
   "cell_type": "code",
   "execution_count": null,
   "id": "41746b7f-40f8-4061-aa00-762b1ba3f22e",
   "metadata": {},
   "outputs": [],
   "source": []
  }
 ],
 "metadata": {
  "kernelspec": {
   "display_name": "Python 3 (ipykernel)",
   "language": "python",
   "name": "python3"
  },
  "language_info": {
   "codemirror_mode": {
    "name": "ipython",
    "version": 3
   },
   "file_extension": ".py",
   "mimetype": "text/x-python",
   "name": "python",
   "nbconvert_exporter": "python",
   "pygments_lexer": "ipython3",
   "version": "3.13.7"
  }
 },
 "nbformat": 4,
 "nbformat_minor": 5
}
